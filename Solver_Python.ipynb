{
 "cells": [
  {
   "cell_type": "code",
   "execution_count": 1,
   "metadata": {
    "collapsed": false
   },
   "outputs": [],
   "source": [
    "import numpy as np\n",
    "import pulp"
   ]
  },
  {
   "cell_type": "code",
   "execution_count": 2,
   "metadata": {
    "collapsed": true
   },
   "outputs": [],
   "source": [
    "prob = pulp.LpProblem('Beer or Ale', pulp.LpMaximize)"
   ]
  },
  {
   "cell_type": "code",
   "execution_count": 3,
   "metadata": {
    "collapsed": true
   },
   "outputs": [],
   "source": [
    "# set up decision variables\n",
    "beer = pulp.LpVariable('beer', lowBound=0, cat='Integer')\n",
    "ale = pulp.LpVariable('ale', lowBound=0, cat='Integer')"
   ]
  },
  {
   "cell_type": "code",
   "execution_count": 4,
   "metadata": {
    "collapsed": true
   },
   "outputs": [],
   "source": [
    "# model weekly revenues from beer and ale sales\n",
    "revenues = 23 * beer + 13 * ale\n",
    "profit = revenues\n",
    "prob += profit"
   ]
  },
  {
   "cell_type": "code",
   "execution_count": 5,
   "metadata": {
    "collapsed": true
   },
   "outputs": [],
   "source": [
    "# add constraints for available hops\n",
    "hops = (4 * ale) + (4 * beer)\n",
    "prob += (hops <= 160)\n",
    "\n",
    "# add constraints for available corn\n",
    "corn = (5 * ale) + (15 * beer)\n",
    "prob += (corn <= 480)\n",
    "\n",
    "# add constraint for available malt\n",
    "malt = (35 * ale) + (20 * beer)\n",
    "prob += (malt <= 1190)"
   ]
  },
  {
   "cell_type": "code",
   "execution_count": 6,
   "metadata": {
    "collapsed": false
   },
   "outputs": [
    {
     "name": "stdout",
     "output_type": "stream",
     "text": [
      "Beer or Ale:\n",
      "MAXIMIZE\n",
      "13*ale + 23*beer + 0\n",
      "SUBJECT TO\n",
      "_C1: 4 ale + 4 beer <= 160\n",
      "\n",
      "_C2: 5 ale + 15 beer <= 480\n",
      "\n",
      "_C3: 35 ale + 20 beer <= 1190\n",
      "\n",
      "VARIABLES\n",
      "0 <= ale Integer\n",
      "0 <= beer Integer\n",
      "\n"
     ]
    }
   ],
   "source": [
    "print prob"
   ]
  },
  {
   "cell_type": "code",
   "execution_count": 7,
   "metadata": {
    "collapsed": false
   },
   "outputs": [
    {
     "name": "stdout",
     "output_type": "stream",
     "text": [
      "Optimal weekly number of ale to produce: 12\n",
      "Optimal weekly number of beer to produce: 28\n"
     ]
    }
   ],
   "source": [
    "# solve the LP using the default solver\n",
    "optimization_result = prob.solve()\n",
    "\n",
    "# make sure we got an optimal solution\n",
    "assert optimization_result == pulp.LpStatusOptimal\n",
    "\n",
    "# display the results\n",
    "for var in (ale, beer):\n",
    "    print('Optimal weekly number of {} to produce: {:1.0f}'.format(var.name, var.value()))"
   ]
  },
  {
   "cell_type": "code",
   "execution_count": 17,
   "metadata": {
    "collapsed": false
   },
   "outputs": [
    {
     "data": {
      "image/png": "[encoded data removed]",
      "text/plain": [
       "<matplotlib.figure.Figure at 0x10bdb4f50>"
      ]
     },
     "metadata": {},
     "output_type": "display_data"
    }
   ],
   "source": [
    "%matplotlib inline\n",
    "from matplotlib import pyplot as plt\n",
    "from matplotlib.path import Path\n",
    "from matplotlib.patches import PathPatch\n",
    "\n",
    "# use seaborn to change the default graphics to something nicer\n",
    "# and set a nice color palette\n",
    "import seaborn as sns\n",
    "# sns.set_color_codes('Set1')\n",
    "\n",
    "# create the plot object\n",
    "fig, ax = plt.subplots(figsize=(8, 8))\n",
    "a = np.linspace(0, 100)\n",
    "\n",
    "# add carpentry constraint: trains <= 80 - soldiers\n",
    "plt.plot(a, 40 - a, lw=3, label='hops')\n",
    "#plt.fill_between(a, 0, 40 - a, alpha=0.1)\n",
    "\n",
    "# add finishing constraint: trains <= 100 - 2*soldiers\n",
    "plt.plot(a, (480 - 5*a)/15, lw=3, label='corn')\n",
    "plt.fill_between(a, 0, (480 - 5*a)/15, alpha=0.1)\n",
    "\n",
    "# add demains constraint: soldiers <= 40\n",
    "plt.plot(a, (1190 - 35*a)/20, lw=3, label='malt')\n",
    "plt.fill_betweenx(a, 0, (1190 - 20*a)/35, alpha=0.1)\n",
    "\n",
    "# add non-negativity constraints\n",
    "plt.plot(np.zeros_like(a), a, lw=3, label='t non-negative')\n",
    "plt.plot(a, np.zeros_like(a), lw=3, label='s non-negative')\n",
    "\n",
    "# highlight the feasible region\n",
    "# path = Path([\n",
    "#     (0., 0.),\n",
    "#     (0., 80.),\n",
    "#     (20., 60.),\n",
    "#     (40., 20.),\n",
    "#     (40., 0.),\n",
    "#     (0., 0.),\n",
    "# ])\n",
    "# patch = PathPatch(path, label='feasible region', alpha=0.5)\n",
    "# ax.add_patch(patch)\n",
    "\n",
    "# labels and stuff\n",
    "plt.xlabel('Beer', fontsize=16)\n",
    "plt.ylabel('Ale', fontsize=16)\n",
    "plt.xlim(-0.5, 100)\n",
    "plt.ylim(-0.5, 100)\n",
    "plt.legend(fontsize=14)\n",
    "plt.show()"
   ]
  },
  {
   "cell_type": "code",
   "execution_count": null,
   "metadata": {
    "collapsed": true
   },
   "outputs": [],
   "source": []
  }
 ],
 "metadata": {
  "kernelspec": {
   "display_name": "Python 2",
   "language": "python",
   "name": "python2"
  },
  "language_info": {
   "codemirror_mode": {
    "name": "ipython",
    "version": 2
   },
   "file_extension": ".py",
   "mimetype": "text/x-python",
   "name": "python",
   "nbconvert_exporter": "python",
   "pygments_lexer": "ipython2",
   "version": "2.7.12"
  }
 },
 "nbformat": 4,
 "nbformat_minor": 0
}
